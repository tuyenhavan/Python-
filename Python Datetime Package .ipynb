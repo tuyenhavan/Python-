{
 "cells": [
  {
   "cell_type": "markdown",
   "metadata": {},
   "source": [
    "# 1. Working with datetime"
   ]
  },
  {
   "cell_type": "code",
   "execution_count": 1,
   "metadata": {},
   "outputs": [],
   "source": [
    "import datetime\n"
   ]
  },
  {
   "cell_type": "markdown",
   "metadata": {},
   "source": [
    "## 1.1. Create datetime "
   ]
  },
  {
   "cell_type": "code",
   "execution_count": 2,
   "metadata": {},
   "outputs": [
    {
     "name": "stdout",
     "output_type": "stream",
     "text": [
      "2019-12-12 17:00:00\n"
     ]
    }
   ],
   "source": [
    "# Create date 2019,12,12\n",
    "dtime=datetime.datetime(2019,12,12,17)\n",
    "\n",
    "print(dtime)"
   ]
  },
  {
   "cell_type": "code",
   "execution_count": 3,
   "metadata": {},
   "outputs": [
    {
     "name": "stdout",
     "output_type": "stream",
     "text": [
      "2021-04-27\n",
      "2021-04-27 22:38:52.167945\n"
     ]
    }
   ],
   "source": [
    "# Get today and today datetime\n",
    "\n",
    "today=datetime.date.today()\n",
    "\n",
    "# Get datetime today\n",
    "today_datetime=datetime.datetime.today()\n",
    "\n",
    "print(today)\n",
    "\n",
    "print(today_datetime)"
   ]
  },
  {
   "cell_type": "code",
   "execution_count": 4,
   "metadata": {},
   "outputs": [
    {
     "name": "stdout",
     "output_type": "stream",
     "text": [
      "7 days, 0:00:00\n",
      "2021-04-20\n",
      "2021-05-04\n"
     ]
    }
   ],
   "source": [
    "# Datetime delta\n",
    "\n",
    "datetime_delta=datetime.timedelta(days=7)\n",
    "\n",
    "print(datetime_delta)\n",
    "# Want to know 7 days before today\n",
    "\n",
    "seven_day_before=today-datetime_delta\n",
    "\n",
    "seven_day_after=today+datetime_delta\n",
    "\n",
    "print(seven_day_before)\n",
    "\n",
    "print(seven_day_after)"
   ]
  },
  {
   "cell_type": "markdown",
   "metadata": {},
   "source": [
    "# Convert datetime to string format"
   ]
  },
  {
   "cell_type": "code",
   "execution_count": 10,
   "metadata": {},
   "outputs": [
    {
     "name": "stdout",
     "output_type": "stream",
     "text": [
      "2021-04-27 22:42:42.439256\n",
      "2021-04-27 22:42:42\n"
     ]
    }
   ],
   "source": [
    "# Get today datetime\n",
    "dt_today=datetime.datetime.today()\n",
    "\n",
    "print(dt_today)\n",
    "# Convert datetime to string format\n",
    "\n",
    "dt_str=datetime.datetime.strftime(dt_today,\"%Y-%m-%d %H:%M:%S\")\n",
    "\n",
    "print(dt_str)"
   ]
  },
  {
   "cell_type": "markdown",
   "metadata": {},
   "source": [
    "# Convert string datetime format to datetime object"
   ]
  },
  {
   "cell_type": "code",
   "execution_count": 11,
   "metadata": {},
   "outputs": [
    {
     "name": "stdout",
     "output_type": "stream",
     "text": [
      "2021-04-27 22:42:42\n"
     ]
    }
   ],
   "source": [
    "# Create a datetime string \n",
    "dt_str=datetime.datetime.strftime(dt_today,\"%Y-%m-%d %H:%M:%S\")\n",
    "# Convert the string format to datetime object\n",
    "\n",
    "dt_datetime=datetime.datetime.strptime(dt_str,\"%Y-%m-%d %H:%M:%S\")\n",
    "\n",
    "print(dt_datetime)"
   ]
  },
  {
   "cell_type": "markdown",
   "metadata": {},
   "source": [
    "# Extract date, time "
   ]
  },
  {
   "cell_type": "code",
   "execution_count": 14,
   "metadata": {},
   "outputs": [
    {
     "name": "stdout",
     "output_type": "stream",
     "text": [
      "2021-04-27\n"
     ]
    }
   ],
   "source": [
    "# Extract date from datetime object\n",
    "date=dt_datetime.date()\n",
    "print(date)"
   ]
  },
  {
   "cell_type": "code",
   "execution_count": 18,
   "metadata": {},
   "outputs": [
    {
     "name": "stdout",
     "output_type": "stream",
     "text": [
      "22:42:42\n"
     ]
    }
   ],
   "source": [
    "# Extract time from datetime object\n",
    "time=dt_datetime.time()\n",
    "\n",
    "print(time)"
   ]
  },
  {
   "cell_type": "markdown",
   "metadata": {},
   "source": [
    "# Extract only hour and minute or day month or year"
   ]
  },
  {
   "cell_type": "code",
   "execution_count": 20,
   "metadata": {},
   "outputs": [
    {
     "name": "stdout",
     "output_type": "stream",
     "text": [
      "22:42\n"
     ]
    }
   ],
   "source": [
    "# Create a datetime object or this case converted string to datetime object\n",
    "dt_datetime=datetime.datetime.strptime(dt_str,\"%Y-%m-%d %H:%M:%S\")\n",
    "\n",
    "# Extract only hour and minute\n",
    "hour_min=dt_datetime.strftime(\"%H:%M\")\n",
    "\n",
    "print(hour_min)"
   ]
  },
  {
   "cell_type": "code",
   "execution_count": 21,
   "metadata": {},
   "outputs": [
    {
     "name": "stdout",
     "output_type": "stream",
     "text": [
      "04-27\n"
     ]
    }
   ],
   "source": [
    "# Extract day and month\n",
    "day_month=dt_datetime.strftime(\"%m-%d\")\n",
    "\n",
    "print(day_month)"
   ]
  },
  {
   "cell_type": "code",
   "execution_count": null,
   "metadata": {},
   "outputs": [],
   "source": []
  },
  {
   "cell_type": "code",
   "execution_count": null,
   "metadata": {},
   "outputs": [],
   "source": []
  }
 ],
 "metadata": {
  "kernelspec": {
   "display_name": "Python 3",
   "language": "python",
   "name": "python3"
  },
  "language_info": {
   "codemirror_mode": {
    "name": "ipython",
    "version": 3
   },
   "file_extension": ".py",
   "mimetype": "text/x-python",
   "name": "python",
   "nbconvert_exporter": "python",
   "pygments_lexer": "ipython3",
   "version": "3.8.5"
  }
 },
 "nbformat": 4,
 "nbformat_minor": 4
}
